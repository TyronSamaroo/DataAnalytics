{
 "cells": [
  {
   "cell_type": "code",
   "execution_count": 34,
   "metadata": {},
   "outputs": [],
   "source": [
    "import os\n",
    "try:\n",
    "    import folium\n",
    "except:\n",
    "    os.system(\"pip install folium\")"
   ]
  },
  {
   "cell_type": "code",
   "execution_count": 35,
   "metadata": {},
   "outputs": [],
   "source": [
    "import folium"
   ]
  },
  {
   "cell_type": "code",
   "execution_count": 36,
   "metadata": {},
   "outputs": [],
   "source": [
    "import pandas as pd\n",
    "import numpy as np\n",
    "import matplotlib.pyplot as plt\n",
    "import seaborn as sns\n",
    "import warnings\n",
    "warnings.filterwarnings('ignore')"
   ]
  },
  {
   "cell_type": "code",
   "execution_count": 37,
   "metadata": {},
   "outputs": [
    {
     "data": {
      "text/html": [
       "<div>\n",
       "<style scoped>\n",
       "    .dataframe tbody tr th:only-of-type {\n",
       "        vertical-align: middle;\n",
       "    }\n",
       "\n",
       "    .dataframe tbody tr th {\n",
       "        vertical-align: top;\n",
       "    }\n",
       "\n",
       "    .dataframe thead th {\n",
       "        text-align: right;\n",
       "    }\n",
       "</style>\n",
       "<table border=\"1\" class=\"dataframe\">\n",
       "  <thead>\n",
       "    <tr style=\"text-align: right;\">\n",
       "      <th></th>\n",
       "      <th>json_data</th>\n",
       "      <th>list-card-link href</th>\n",
       "      <th>list-card-addr</th>\n",
       "      <th>list-card-type</th>\n",
       "      <th>list-card-price</th>\n",
       "      <th>list-card-details</th>\n",
       "      <th>list-card-label</th>\n",
       "      <th>list-card-details 2</th>\n",
       "      <th>list-card-label 2</th>\n",
       "      <th>list-card-details 3</th>\n",
       "      <th>list-card-label 3</th>\n",
       "      <th>list-card-variable-text</th>\n",
       "      <th>list-card-link src</th>\n",
       "      <th>list-card-save-content</th>\n",
       "    </tr>\n",
       "  </thead>\n",
       "  <tbody>\n",
       "    <tr>\n",
       "      <td>0</td>\n",
       "      <td>{\"@type\":\"SingleFamilyResidence\",\"@context\":\"h...</td>\n",
       "      <td>https://www.zillow.com/homedetails/13341-126th...</td>\n",
       "      <td>13341 126th St FL 2ND, S Ozone Park, NY 11420</td>\n",
       "      <td>Apartment for rent</td>\n",
       "      <td>$1,900/mo</td>\n",
       "      <td>2</td>\n",
       "      <td>bds</td>\n",
       "      <td>1</td>\n",
       "      <td>ba</td>\n",
       "      <td>--</td>\n",
       "      <td>sqft</td>\n",
       "      <td>1 day ago</td>\n",
       "      <td>https://maps.googleapis.com/maps/api/streetvie...</td>\n",
       "      <td>Save this home</td>\n",
       "    </tr>\n",
       "    <tr>\n",
       "      <td>1</td>\n",
       "      <td>{\"@type\":\"SingleFamilyResidence\",\"@context\":\"h...</td>\n",
       "      <td>https://www.zillow.com/homedetails/13121-131st...</td>\n",
       "      <td>13121 131st Ave, Jamaica, NY 11420</td>\n",
       "      <td>House for rent</td>\n",
       "      <td>$3,500/mo</td>\n",
       "      <td>4</td>\n",
       "      <td>bds</td>\n",
       "      <td>2</td>\n",
       "      <td>ba</td>\n",
       "      <td>1,408</td>\n",
       "      <td>sqft</td>\n",
       "      <td>3 days ago</td>\n",
       "      <td>https://photos.zillowstatic.com/p_e/ISf0tagbnt...</td>\n",
       "      <td>Save this home</td>\n",
       "    </tr>\n",
       "    <tr>\n",
       "      <td>2</td>\n",
       "      <td>{\"@type\":\"SingleFamilyResidence\",\"@context\":\"h...</td>\n",
       "      <td>https://www.zillow.com/homedetails/11453-130th...</td>\n",
       "      <td>11453 130th St, South Ozone Park, NY 11420</td>\n",
       "      <td>Apartment for rent</td>\n",
       "      <td>$1,400/mo</td>\n",
       "      <td>1</td>\n",
       "      <td>bd</td>\n",
       "      <td>1</td>\n",
       "      <td>ba</td>\n",
       "      <td>--</td>\n",
       "      <td>sqft</td>\n",
       "      <td>3 days ago</td>\n",
       "      <td>https://maps.googleapis.com/maps/api/streetvie...</td>\n",
       "      <td>Save this home</td>\n",
       "    </tr>\n",
       "    <tr>\n",
       "      <td>3</td>\n",
       "      <td>{\"@type\":\"SingleFamilyResidence\",\"@context\":\"h...</td>\n",
       "      <td>https://www.zillow.com/homedetails/13523-128th...</td>\n",
       "      <td>13523 128th St, Jamaica, NY 11420</td>\n",
       "      <td>Apartment for rent</td>\n",
       "      <td>$2,300/mo</td>\n",
       "      <td>3</td>\n",
       "      <td>bds</td>\n",
       "      <td>1</td>\n",
       "      <td>ba</td>\n",
       "      <td>1,500</td>\n",
       "      <td>sqft</td>\n",
       "      <td>6 days ago</td>\n",
       "      <td>https://photos.zillowstatic.com/p_e/ISbdk1o206...</td>\n",
       "      <td>Save this home</td>\n",
       "    </tr>\n",
       "    <tr>\n",
       "      <td>4</td>\n",
       "      <td>{\"@type\":\"SingleFamilyResidence\",\"@context\":\"h...</td>\n",
       "      <td>https://www.zillow.com/homedetails/Street-S-Oz...</td>\n",
       "      <td>Street S Ozone Park, South Ozone Park, NY 11420</td>\n",
       "      <td>Apartment for rent</td>\n",
       "      <td>$800/mo</td>\n",
       "      <td>1</td>\n",
       "      <td>bd</td>\n",
       "      <td>1</td>\n",
       "      <td>ba</td>\n",
       "      <td>--</td>\n",
       "      <td>sqft</td>\n",
       "      <td>6 days ago</td>\n",
       "      <td>https://maps.googleapis.com/maps/api/streetvie...</td>\n",
       "      <td>Save this home</td>\n",
       "    </tr>\n",
       "  </tbody>\n",
       "</table>\n",
       "</div>"
      ],
      "text/plain": [
       "                                           json_data  \\\n",
       "0  {\"@type\":\"SingleFamilyResidence\",\"@context\":\"h...   \n",
       "1  {\"@type\":\"SingleFamilyResidence\",\"@context\":\"h...   \n",
       "2  {\"@type\":\"SingleFamilyResidence\",\"@context\":\"h...   \n",
       "3  {\"@type\":\"SingleFamilyResidence\",\"@context\":\"h...   \n",
       "4  {\"@type\":\"SingleFamilyResidence\",\"@context\":\"h...   \n",
       "\n",
       "                                 list-card-link href  \\\n",
       "0  https://www.zillow.com/homedetails/13341-126th...   \n",
       "1  https://www.zillow.com/homedetails/13121-131st...   \n",
       "2  https://www.zillow.com/homedetails/11453-130th...   \n",
       "3  https://www.zillow.com/homedetails/13523-128th...   \n",
       "4  https://www.zillow.com/homedetails/Street-S-Oz...   \n",
       "\n",
       "                                    list-card-addr      list-card-type  \\\n",
       "0    13341 126th St FL 2ND, S Ozone Park, NY 11420  Apartment for rent   \n",
       "1               13121 131st Ave, Jamaica, NY 11420      House for rent   \n",
       "2       11453 130th St, South Ozone Park, NY 11420  Apartment for rent   \n",
       "3                13523 128th St, Jamaica, NY 11420  Apartment for rent   \n",
       "4  Street S Ozone Park, South Ozone Park, NY 11420  Apartment for rent   \n",
       "\n",
       "  list-card-price list-card-details list-card-label list-card-details 2  \\\n",
       "0       $1,900/mo                 2             bds                   1   \n",
       "1       $3,500/mo                 4             bds                   2   \n",
       "2       $1,400/mo                 1              bd                   1   \n",
       "3       $2,300/mo                 3             bds                   1   \n",
       "4         $800/mo                 1              bd                   1   \n",
       "\n",
       "  list-card-label 2 list-card-details 3 list-card-label 3  \\\n",
       "0                ba                  --              sqft   \n",
       "1                ba               1,408              sqft   \n",
       "2                ba                  --              sqft   \n",
       "3                ba               1,500              sqft   \n",
       "4                ba                  --              sqft   \n",
       "\n",
       "  list-card-variable-text                                 list-card-link src  \\\n",
       "0               1 day ago  https://maps.googleapis.com/maps/api/streetvie...   \n",
       "1              3 days ago  https://photos.zillowstatic.com/p_e/ISf0tagbnt...   \n",
       "2              3 days ago  https://maps.googleapis.com/maps/api/streetvie...   \n",
       "3              6 days ago  https://photos.zillowstatic.com/p_e/ISbdk1o206...   \n",
       "4              6 days ago  https://maps.googleapis.com/maps/api/streetvie...   \n",
       "\n",
       "  list-card-save-content  \n",
       "0         Save this home  \n",
       "1         Save this home  \n",
       "2         Save this home  \n",
       "3         Save this home  \n",
       "4         Save this home  "
      ]
     },
     "execution_count": 37,
     "metadata": {},
     "output_type": "execute_result"
    }
   ],
   "source": [
    "df = pd.read_csv(\"zillow123.csv\")\n",
    "df['json_data'] = df['json_data'].astype(str)\n",
    "df.head()"
   ]
  },
  {
   "cell_type": "code",
   "execution_count": 38,
   "metadata": {},
   "outputs": [
    {
     "data": {
      "text/html": [
       "<div>\n",
       "<style scoped>\n",
       "    .dataframe tbody tr th:only-of-type {\n",
       "        vertical-align: middle;\n",
       "    }\n",
       "\n",
       "    .dataframe tbody tr th {\n",
       "        vertical-align: top;\n",
       "    }\n",
       "\n",
       "    .dataframe thead th {\n",
       "        text-align: right;\n",
       "    }\n",
       "</style>\n",
       "<table border=\"1\" class=\"dataframe\">\n",
       "  <thead>\n",
       "    <tr style=\"text-align: right;\">\n",
       "      <th></th>\n",
       "      <th>json_data</th>\n",
       "      <th>list-card-link href</th>\n",
       "      <th>list-card-addr</th>\n",
       "      <th>list-card-type</th>\n",
       "      <th>list-card-price</th>\n",
       "      <th>list-card-details</th>\n",
       "      <th>list-card-label</th>\n",
       "      <th>list-card-details 2</th>\n",
       "      <th>list-card-label 2</th>\n",
       "      <th>list-card-details 3</th>\n",
       "      <th>list-card-label 3</th>\n",
       "      <th>list-card-variable-text</th>\n",
       "      <th>list-card-link src</th>\n",
       "      <th>list-card-save-content</th>\n",
       "    </tr>\n",
       "  </thead>\n",
       "  <tbody>\n",
       "    <tr>\n",
       "      <td>0</td>\n",
       "      <td>{\"@type\":\"SingleFamilyResidence\",\"@context\":\"h...</td>\n",
       "      <td>https://www.zillow.com/homedetails/13341-126th...</td>\n",
       "      <td>13341 126th St FL 2ND, S Ozone Park, NY 11420</td>\n",
       "      <td>Apartment for rent</td>\n",
       "      <td>$1,900/mo</td>\n",
       "      <td>2</td>\n",
       "      <td>bds</td>\n",
       "      <td>1</td>\n",
       "      <td>ba</td>\n",
       "      <td>--</td>\n",
       "      <td>sqft</td>\n",
       "      <td>1 day ago</td>\n",
       "      <td>https://maps.googleapis.com/maps/api/streetvie...</td>\n",
       "      <td>Save this home</td>\n",
       "    </tr>\n",
       "    <tr>\n",
       "      <td>1</td>\n",
       "      <td>{\"@type\":\"SingleFamilyResidence\",\"@context\":\"h...</td>\n",
       "      <td>https://www.zillow.com/homedetails/13121-131st...</td>\n",
       "      <td>13121 131st Ave, Jamaica, NY 11420</td>\n",
       "      <td>House for rent</td>\n",
       "      <td>$3,500/mo</td>\n",
       "      <td>4</td>\n",
       "      <td>bds</td>\n",
       "      <td>2</td>\n",
       "      <td>ba</td>\n",
       "      <td>1,408</td>\n",
       "      <td>sqft</td>\n",
       "      <td>3 days ago</td>\n",
       "      <td>https://photos.zillowstatic.com/p_e/ISf0tagbnt...</td>\n",
       "      <td>Save this home</td>\n",
       "    </tr>\n",
       "    <tr>\n",
       "      <td>2</td>\n",
       "      <td>{\"@type\":\"SingleFamilyResidence\",\"@context\":\"h...</td>\n",
       "      <td>https://www.zillow.com/homedetails/11453-130th...</td>\n",
       "      <td>11453 130th St, South Ozone Park, NY 11420</td>\n",
       "      <td>Apartment for rent</td>\n",
       "      <td>$1,400/mo</td>\n",
       "      <td>1</td>\n",
       "      <td>bd</td>\n",
       "      <td>1</td>\n",
       "      <td>ba</td>\n",
       "      <td>--</td>\n",
       "      <td>sqft</td>\n",
       "      <td>3 days ago</td>\n",
       "      <td>https://maps.googleapis.com/maps/api/streetvie...</td>\n",
       "      <td>Save this home</td>\n",
       "    </tr>\n",
       "    <tr>\n",
       "      <td>3</td>\n",
       "      <td>{\"@type\":\"SingleFamilyResidence\",\"@context\":\"h...</td>\n",
       "      <td>https://www.zillow.com/homedetails/13523-128th...</td>\n",
       "      <td>13523 128th St, Jamaica, NY 11420</td>\n",
       "      <td>Apartment for rent</td>\n",
       "      <td>$2,300/mo</td>\n",
       "      <td>3</td>\n",
       "      <td>bds</td>\n",
       "      <td>1</td>\n",
       "      <td>ba</td>\n",
       "      <td>1,500</td>\n",
       "      <td>sqft</td>\n",
       "      <td>6 days ago</td>\n",
       "      <td>https://photos.zillowstatic.com/p_e/ISbdk1o206...</td>\n",
       "      <td>Save this home</td>\n",
       "    </tr>\n",
       "    <tr>\n",
       "      <td>4</td>\n",
       "      <td>{\"@type\":\"SingleFamilyResidence\",\"@context\":\"h...</td>\n",
       "      <td>https://www.zillow.com/homedetails/Street-S-Oz...</td>\n",
       "      <td>Street S Ozone Park, South Ozone Park, NY 11420</td>\n",
       "      <td>Apartment for rent</td>\n",
       "      <td>$800/mo</td>\n",
       "      <td>1</td>\n",
       "      <td>bd</td>\n",
       "      <td>1</td>\n",
       "      <td>ba</td>\n",
       "      <td>--</td>\n",
       "      <td>sqft</td>\n",
       "      <td>6 days ago</td>\n",
       "      <td>https://maps.googleapis.com/maps/api/streetvie...</td>\n",
       "      <td>Save this home</td>\n",
       "    </tr>\n",
       "  </tbody>\n",
       "</table>\n",
       "</div>"
      ],
      "text/plain": [
       "                                           json_data  \\\n",
       "0  {\"@type\":\"SingleFamilyResidence\",\"@context\":\"h...   \n",
       "1  {\"@type\":\"SingleFamilyResidence\",\"@context\":\"h...   \n",
       "2  {\"@type\":\"SingleFamilyResidence\",\"@context\":\"h...   \n",
       "3  {\"@type\":\"SingleFamilyResidence\",\"@context\":\"h...   \n",
       "4  {\"@type\":\"SingleFamilyResidence\",\"@context\":\"h...   \n",
       "\n",
       "                                 list-card-link href  \\\n",
       "0  https://www.zillow.com/homedetails/13341-126th...   \n",
       "1  https://www.zillow.com/homedetails/13121-131st...   \n",
       "2  https://www.zillow.com/homedetails/11453-130th...   \n",
       "3  https://www.zillow.com/homedetails/13523-128th...   \n",
       "4  https://www.zillow.com/homedetails/Street-S-Oz...   \n",
       "\n",
       "                                    list-card-addr      list-card-type  \\\n",
       "0    13341 126th St FL 2ND, S Ozone Park, NY 11420  Apartment for rent   \n",
       "1               13121 131st Ave, Jamaica, NY 11420      House for rent   \n",
       "2       11453 130th St, South Ozone Park, NY 11420  Apartment for rent   \n",
       "3                13523 128th St, Jamaica, NY 11420  Apartment for rent   \n",
       "4  Street S Ozone Park, South Ozone Park, NY 11420  Apartment for rent   \n",
       "\n",
       "  list-card-price list-card-details list-card-label list-card-details 2  \\\n",
       "0       $1,900/mo                 2             bds                   1   \n",
       "1       $3,500/mo                 4             bds                   2   \n",
       "2       $1,400/mo                 1              bd                   1   \n",
       "3       $2,300/mo                 3             bds                   1   \n",
       "4         $800/mo                 1              bd                   1   \n",
       "\n",
       "  list-card-label 2 list-card-details 3 list-card-label 3  \\\n",
       "0                ba                  --              sqft   \n",
       "1                ba               1,408              sqft   \n",
       "2                ba                  --              sqft   \n",
       "3                ba               1,500              sqft   \n",
       "4                ba                  --              sqft   \n",
       "\n",
       "  list-card-variable-text                                 list-card-link src  \\\n",
       "0               1 day ago  https://maps.googleapis.com/maps/api/streetvie...   \n",
       "1              3 days ago  https://photos.zillowstatic.com/p_e/ISf0tagbnt...   \n",
       "2              3 days ago  https://maps.googleapis.com/maps/api/streetvie...   \n",
       "3              6 days ago  https://photos.zillowstatic.com/p_e/ISbdk1o206...   \n",
       "4              6 days ago  https://maps.googleapis.com/maps/api/streetvie...   \n",
       "\n",
       "  list-card-save-content  \n",
       "0         Save this home  \n",
       "1         Save this home  \n",
       "2         Save this home  \n",
       "3         Save this home  \n",
       "4         Save this home  "
      ]
     },
     "execution_count": 38,
     "metadata": {},
     "output_type": "execute_result"
    }
   ],
   "source": [
    "df = df[df['json_data'] != 'nan']\n",
    "df.head()"
   ]
  },
  {
   "cell_type": "code",
   "execution_count": 39,
   "metadata": {},
   "outputs": [],
   "source": [
    "import json\n",
    "\n",
    "def parse_json(s):\n",
    "    result = {'Latitude': '', 'Longitude': '',  'error': ''}\n",
    "    json_data = json.loads(s)\n",
    "    try:\n",
    "        result['Latitude'] = json_data.get('geo').get('latitude')\n",
    "        result['Longitude'] = json_data.get('geo').get('longitude')\n",
    "    except Exception as e:\n",
    "        result['error'] = str(e)\n",
    "    return(result)\n"
   ]
  },
  {
   "cell_type": "code",
   "execution_count": 40,
   "metadata": {},
   "outputs": [
    {
     "data": {
      "text/plain": [
       "0     {'Latitude': 40.669812, 'Longitude': -73.81306...\n",
       "1     {'Latitude': 40.670964, 'Longitude': -73.80665...\n",
       "2     {'Latitude': 40.679659, 'Longitude': -73.81082...\n",
       "3     {'Latitude': 40.668091, 'Longitude': -73.81167...\n",
       "4     {'Latitude': 40.67368, 'Longitude': -73.81698,...\n",
       "                            ...                        \n",
       "60    {'Latitude': 40.670143, 'Longitude': -73.81003...\n",
       "61    {'Latitude': 40.67462, 'Longitude': -73.80451,...\n",
       "62    {'Latitude': 40.665762, 'Longitude': -73.81425...\n",
       "63    {'Latitude': 40.682201, 'Longitude': -73.81131...\n",
       "64    {'Latitude': 40.67103, 'Longitude': -73.81299,...\n",
       "Name: json_data, Length: 62, dtype: object"
      ]
     },
     "execution_count": 40,
     "metadata": {},
     "output_type": "execute_result"
    }
   ],
   "source": [
    "series = df['json_data'].apply(parse_json)\n",
    "series"
   ]
  },
  {
   "cell_type": "code",
   "execution_count": 41,
   "metadata": {},
   "outputs": [],
   "source": [
    "output_df = pd.DataFrame(index = df.index)\n",
    "output_df['Latitude'] = series.apply( lambda d: \"{}\".format(d['Latitude'])).astype(float)\n",
    "output_df['Longitude'] = series.apply( lambda d: \"{}\".format(d['Longitude'])).astype(float)"
   ]
  },
  {
   "cell_type": "code",
   "execution_count": 42,
   "metadata": {},
   "outputs": [
    {
     "data": {
      "text/html": [
       "<div>\n",
       "<style scoped>\n",
       "    .dataframe tbody tr th:only-of-type {\n",
       "        vertical-align: middle;\n",
       "    }\n",
       "\n",
       "    .dataframe tbody tr th {\n",
       "        vertical-align: top;\n",
       "    }\n",
       "\n",
       "    .dataframe thead th {\n",
       "        text-align: right;\n",
       "    }\n",
       "</style>\n",
       "<table border=\"1\" class=\"dataframe\">\n",
       "  <thead>\n",
       "    <tr style=\"text-align: right;\">\n",
       "      <th></th>\n",
       "      <th>Latitude</th>\n",
       "      <th>Longitude</th>\n",
       "    </tr>\n",
       "  </thead>\n",
       "  <tbody>\n",
       "    <tr>\n",
       "      <td>0</td>\n",
       "      <td>40.669812</td>\n",
       "      <td>-73.813065</td>\n",
       "    </tr>\n",
       "    <tr>\n",
       "      <td>1</td>\n",
       "      <td>40.670964</td>\n",
       "      <td>-73.806654</td>\n",
       "    </tr>\n",
       "    <tr>\n",
       "      <td>2</td>\n",
       "      <td>40.679659</td>\n",
       "      <td>-73.810825</td>\n",
       "    </tr>\n",
       "    <tr>\n",
       "      <td>3</td>\n",
       "      <td>40.668091</td>\n",
       "      <td>-73.811672</td>\n",
       "    </tr>\n",
       "    <tr>\n",
       "      <td>4</td>\n",
       "      <td>40.673680</td>\n",
       "      <td>-73.816980</td>\n",
       "    </tr>\n",
       "  </tbody>\n",
       "</table>\n",
       "</div>"
      ],
      "text/plain": [
       "    Latitude  Longitude\n",
       "0  40.669812 -73.813065\n",
       "1  40.670964 -73.806654\n",
       "2  40.679659 -73.810825\n",
       "3  40.668091 -73.811672\n",
       "4  40.673680 -73.816980"
      ]
     },
     "execution_count": 42,
     "metadata": {},
     "output_type": "execute_result"
    }
   ],
   "source": [
    "output_df.head()"
   ]
  },
  {
   "cell_type": "code",
   "execution_count": 43,
   "metadata": {},
   "outputs": [
    {
     "data": {
      "text/html": [
       "<div>\n",
       "<style scoped>\n",
       "    .dataframe tbody tr th:only-of-type {\n",
       "        vertical-align: middle;\n",
       "    }\n",
       "\n",
       "    .dataframe tbody tr th {\n",
       "        vertical-align: top;\n",
       "    }\n",
       "\n",
       "    .dataframe thead th {\n",
       "        text-align: right;\n",
       "    }\n",
       "</style>\n",
       "<table border=\"1\" class=\"dataframe\">\n",
       "  <thead>\n",
       "    <tr style=\"text-align: right;\">\n",
       "      <th></th>\n",
       "      <th>Latitude</th>\n",
       "      <th>Longitude</th>\n",
       "      <th>ListingType</th>\n",
       "      <th>ListingPrice</th>\n",
       "      <th>FloorSize</th>\n",
       "      <th>TimeOnMarket</th>\n",
       "    </tr>\n",
       "  </thead>\n",
       "  <tbody>\n",
       "    <tr>\n",
       "      <td>0</td>\n",
       "      <td>40.669812</td>\n",
       "      <td>-73.813065</td>\n",
       "      <td>Apartment for rent</td>\n",
       "      <td>$1,900/mo</td>\n",
       "      <td>--</td>\n",
       "      <td>1 day ago</td>\n",
       "    </tr>\n",
       "    <tr>\n",
       "      <td>1</td>\n",
       "      <td>40.670964</td>\n",
       "      <td>-73.806654</td>\n",
       "      <td>House for rent</td>\n",
       "      <td>$3,500/mo</td>\n",
       "      <td>1,408</td>\n",
       "      <td>3 days ago</td>\n",
       "    </tr>\n",
       "    <tr>\n",
       "      <td>2</td>\n",
       "      <td>40.679659</td>\n",
       "      <td>-73.810825</td>\n",
       "      <td>Apartment for rent</td>\n",
       "      <td>$1,400/mo</td>\n",
       "      <td>--</td>\n",
       "      <td>3 days ago</td>\n",
       "    </tr>\n",
       "    <tr>\n",
       "      <td>3</td>\n",
       "      <td>40.668091</td>\n",
       "      <td>-73.811672</td>\n",
       "      <td>Apartment for rent</td>\n",
       "      <td>$2,300/mo</td>\n",
       "      <td>1,500</td>\n",
       "      <td>6 days ago</td>\n",
       "    </tr>\n",
       "    <tr>\n",
       "      <td>4</td>\n",
       "      <td>40.673680</td>\n",
       "      <td>-73.816980</td>\n",
       "      <td>Apartment for rent</td>\n",
       "      <td>$800/mo</td>\n",
       "      <td>--</td>\n",
       "      <td>6 days ago</td>\n",
       "    </tr>\n",
       "  </tbody>\n",
       "</table>\n",
       "</div>"
      ],
      "text/plain": [
       "    Latitude  Longitude         ListingType ListingPrice FloorSize  \\\n",
       "0  40.669812 -73.813065  Apartment for rent    $1,900/mo        --   \n",
       "1  40.670964 -73.806654      House for rent    $3,500/mo     1,408   \n",
       "2  40.679659 -73.810825  Apartment for rent    $1,400/mo        --   \n",
       "3  40.668091 -73.811672  Apartment for rent    $2,300/mo     1,500   \n",
       "4  40.673680 -73.816980  Apartment for rent      $800/mo        --   \n",
       "\n",
       "  TimeOnMarket  \n",
       "0    1 day ago  \n",
       "1   3 days ago  \n",
       "2   3 days ago  \n",
       "3   6 days ago  \n",
       "4   6 days ago  "
      ]
     },
     "execution_count": 43,
     "metadata": {},
     "output_type": "execute_result"
    }
   ],
   "source": [
    "column_map = {'ListingType': 'list-card-type',\n",
    "             'ListingPrice': 'list-card-price',\n",
    "             'FloorSize': 'list-card-details 3',\n",
    "             'TimeOnMarket': 'list-card-variable-text'}\n",
    "for k, v in column_map.items():\n",
    "    output_df[k] = df[v]\n",
    "\n",
    "output_df.head()"
   ]
  },
  {
   "cell_type": "code",
   "execution_count": 44,
   "metadata": {},
   "outputs": [],
   "source": [
    "output_df.to_csv(\"zillow_parsed_forrent.csv\", index=False)"
   ]
  },
  {
   "cell_type": "markdown",
   "metadata": {},
   "source": [
    "# Now we have the data, let's show it on Google Map!!!"
   ]
  },
  {
   "cell_type": "code",
   "execution_count": 45,
   "metadata": {},
   "outputs": [
    {
     "name": "stdout",
     "output_type": "stream",
     "text": [
      "-73.81530003225808 40.67512635483871\n"
     ]
    }
   ],
   "source": [
    "# find the average long, lat\n",
    "longitude = output_df['Longitude'].astype(float).mean()\n",
    "latitude = output_df['Latitude'].astype(float).mean()\n",
    "print(longitude, latitude)"
   ]
  },
  {
   "cell_type": "code",
   "execution_count": 46,
   "metadata": {},
   "outputs": [
    {
     "data": {
      "text/html": [
       "<div style=\"width:100%;\"><div style=\"position:relative;width:100%;height:0;padding-bottom:60%;\"><iframe src=\"data:text/html;charset=utf-8;base64,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\" style=\"position:absolute;width:100%;height:100%;left:0;top:0;border:none !important;\" allowfullscreen webkitallowfullscreen mozallowfullscreen></iframe></div></div>"
      ],
      "text/plain": [
       "<folium.folium.Map at 0x1a25cc3690>"
      ]
     },
     "execution_count": 46,
     "metadata": {},
     "output_type": "execute_result"
    }
   ],
   "source": [
    "##https://python-graph-gallery.com/288-map-background-with-folium/\n",
    "tiles_choices = [\"CartoDB dark_matter\", \"cartodb positron\", \"openstreetmap\"]\n",
    "fmap = folium.Map(location=[latitude, longitude], zoom_start=10,  tiles = \"cartodb positron\")\n",
    "fmap"
   ]
  },
  {
   "cell_type": "code",
   "execution_count": 47,
   "metadata": {},
   "outputs": [
    {
     "data": {
      "text/html": [
       "<div style=\"width:100%;\"><div style=\"position:relative;width:100%;height:0;padding-bottom:60%;\"><iframe src=\"data:text/html;charset=utf-8;base64,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\" style=\"position:absolute;width:100%;height:100%;left:0;top:0;border:none !important;\" allowfullscreen webkitallowfullscreen mozallowfullscreen></iframe></div></div>"
      ],
      "text/plain": [
       "<folium.folium.Map at 0x1a25caa4d0>"
      ]
     },
     "execution_count": 47,
     "metadata": {},
     "output_type": "execute_result"
    }
   ],
   "source": [
    "fmap = folium.Map(location=[latitude, longitude], zoom_start=10,  tiles = \"openstreetmap\")\n",
    "fmap"
   ]
  },
  {
   "cell_type": "code",
   "execution_count": 48,
   "metadata": {},
   "outputs": [
    {
     "data": {
      "text/html": [
       "<div style=\"width:100%;\"><div style=\"position:relative;width:100%;height:0;padding-bottom:60%;\"><iframe src=\"data:text/html;charset=utf-8;base64,PCFET0NUWVBFIGh0bWw+CjxoZWFkPiAgICAKICAgIDxtZXRhIGh0dHAtZXF1aXY9ImNvbnRlbnQtdHlwZSIgY29udGVudD0idGV4dC9odG1sOyBjaGFyc2V0PVVURi04IiAvPgogICAgCiAgICAgICAgPHNjcmlwdD4KICAgICAgICAgICAgTF9OT19UT1VDSCA9IGZhbHNlOwogICAgICAgICAgICBMX0RJU0FCTEVfM0QgPSBmYWxzZTsKICAgICAgICA8L3NjcmlwdD4KICAgIAogICAgPHNjcmlwdCBzcmM9Imh0dHBzOi8vY2RuLmpzZGVsaXZyLm5ldC9ucG0vbGVhZmxldEAxLjUuMS9kaXN0L2xlYWZsZXQuanMiPjwvc2NyaXB0PgogICAgPHNjcmlwdCBzcmM9Imh0dHBzOi8vY29kZS5qcXVlcnkuY29tL2pxdWVyeS0xLjEyLjQubWluLmpzIj48L3NjcmlwdD4KICAgIDxzY3JpcHQgc3JjPSJodHRwczovL21heGNkbi5ib290c3RyYXBjZG4uY29tL2Jvb3RzdHJhcC8zLjIuMC9qcy9ib290c3RyYXAubWluLmpzIj48L3NjcmlwdD4KICAgIDxzY3JpcHQgc3JjPSJodHRwczovL2NkbmpzLmNsb3VkZmxhcmUuY29tL2FqYXgvbGlicy9MZWFmbGV0LmF3ZXNvbWUtbWFya2Vycy8yLjAuMi9sZWFmbGV0LmF3ZXNvbWUtbWFya2Vycy5qcyI+PC9zY3JpcHQ+CiAgICA8bGluayByZWw9InN0eWxlc2hlZXQiIGhyZWY9Imh0dHBzOi8vY2RuLmpzZGVsaXZyLm5ldC9ucG0vbGVhZmxldEAxLjUuMS9kaXN0L2xlYWZsZXQuY3NzIi8+CiAgICA8bGluayByZWw9InN0eWxlc2hlZXQiIGhyZWY9Imh0dHBzOi8vbWF4Y2RuLmJvb3RzdHJhcGNkbi5jb20vYm9vdHN0cmFwLzMuMi4wL2Nzcy9ib290c3RyYXAubWluLmNzcyIvPgogICAgPGxpbmsgcmVsPSJzdHlsZXNoZWV0IiBocmVmPSJodHRwczovL21heGNkbi5ib290c3RyYXBjZG4uY29tL2Jvb3RzdHJhcC8zLjIuMC9jc3MvYm9vdHN0cmFwLXRoZW1lLm1pbi5jc3MiLz4KICAgIDxsaW5rIHJlbD0ic3R5bGVzaGVldCIgaHJlZj0iaHR0cHM6Ly9tYXhjZG4uYm9vdHN0cmFwY2RuLmNvbS9mb250LWF3ZXNvbWUvNC42LjMvY3NzL2ZvbnQtYXdlc29tZS5taW4uY3NzIi8+CiAgICA8bGluayByZWw9InN0eWxlc2hlZXQiIGhyZWY9Imh0dHBzOi8vY2RuanMuY2xvdWRmbGFyZS5jb20vYWpheC9saWJzL0xlYWZsZXQuYXdlc29tZS1tYXJrZXJzLzIuMC4yL2xlYWZsZXQuYXdlc29tZS1tYXJrZXJzLmNzcyIvPgogICAgPGxpbmsgcmVsPSJzdHlsZXNoZWV0IiBocmVmPSJodHRwczovL3Jhd2Nkbi5naXRoYWNrLmNvbS9weXRob24tdmlzdWFsaXphdGlvbi9mb2xpdW0vbWFzdGVyL2ZvbGl1bS90ZW1wbGF0ZXMvbGVhZmxldC5hd2Vzb21lLnJvdGF0ZS5jc3MiLz4KICAgIDxzdHlsZT5odG1sLCBib2R5IHt3aWR0aDogMTAwJTtoZWlnaHQ6IDEwMCU7bWFyZ2luOiAwO3BhZGRpbmc6IDA7fTwvc3R5bGU+CiAgICA8c3R5bGU+I21hcCB7cG9zaXRpb246YWJzb2x1dGU7dG9wOjA7Ym90dG9tOjA7cmlnaHQ6MDtsZWZ0OjA7fTwvc3R5bGU+CiAgICAKICAgICAgICAgICAgPG1ldGEgbmFtZT0idmlld3BvcnQiIGNvbnRlbnQ9IndpZHRoPWRldmljZS13aWR0aCwKICAgICAgICAgICAgICAgIGluaXRpYWwtc2NhbGU9MS4wLCBtYXhpbXVtLXNjYWxlPTEuMCwgdXNlci1zY2FsYWJsZT1ubyIgLz4KICAgICAgICAgICAgPHN0eWxlPgogICAgICAgICAgICAgICAgI21hcF9lMjIwOTNjMTlhNDg0ODY0OGE1MDFiMTQzMmM2OGVkYyB7CiAgICAgICAgICAgICAgICAgICAgcG9zaXRpb246IHJlbGF0aXZlOwogICAgICAgICAgICAgICAgICAgIHdpZHRoOiAxMDAuMCU7CiAgICAgICAgICAgICAgICAgICAgaGVpZ2h0OiAxMDAuMCU7CiAgICAgICAgICAgICAgICAgICAgbGVmdDogMC4wJTsKICAgICAgICAgICAgICAgICAgICB0b3A6IDAuMCU7CiAgICAgICAgICAgICAgICB9CiAgICAgICAgICAgIDwvc3R5bGU+CiAgICAgICAgCjwvaGVhZD4KPGJvZHk+ICAgIAogICAgCiAgICAgICAgICAgIDxkaXYgY2xhc3M9ImZvbGl1bS1tYXAiIGlkPSJtYXBfZTIyMDkzYzE5YTQ4NDg2NDhhNTAxYjE0MzJjNjhlZGMiID48L2Rpdj4KICAgICAgICAKPC9ib2R5Pgo8c2NyaXB0PiAgICAKICAgIAogICAgICAgICAgICB2YXIgbWFwX2UyMjA5M2MxOWE0ODQ4NjQ4YTUwMWIxNDMyYzY4ZWRjID0gTC5tYXAoCiAgICAgICAgICAgICAgICAibWFwX2UyMjA5M2MxOWE0ODQ4NjQ4YTUwMWIxNDMyYzY4ZWRjIiwKICAgICAgICAgICAgICAgIHsKICAgICAgICAgICAgICAgICAgICBjZW50ZXI6IFs0MC42NzUxMjYzNTQ4Mzg3MSwgLTczLjgxNTMwMDAzMjI1ODA4XSwKICAgICAgICAgICAgICAgICAgICBjcnM6IEwuQ1JTLkVQU0czODU3LAogICAgICAgICAgICAgICAgICAgIHpvb206IDEwLAogICAgICAgICAgICAgICAgICAgIHpvb21Db250cm9sOiB0cnVlLAogICAgICAgICAgICAgICAgICAgIHByZWZlckNhbnZhczogZmFsc2UsCiAgICAgICAgICAgICAgICB9CiAgICAgICAgICAgICk7CgogICAgICAgICAgICAKCiAgICAgICAgCiAgICAKICAgICAgICAgICAgdmFyIHRpbGVfbGF5ZXJfYzUzY2M2NWQwMDZmNDM1M2FiMjYxMDdhMDlkMTgxNWUgPSBMLnRpbGVMYXllcigKICAgICAgICAgICAgICAgICJodHRwczovL3N0YW1lbi10aWxlcy17c30uYS5zc2wuZmFzdGx5Lm5ldC90ZXJyYWluL3t6fS97eH0ve3l9LmpwZyIsCiAgICAgICAgICAgICAgICB7ImF0dHJpYnV0aW9uIjogIk1hcCB0aWxlcyBieSBcdTAwM2NhIGhyZWY9XCJodHRwOi8vc3RhbWVuLmNvbVwiXHUwMDNlU3RhbWVuIERlc2lnblx1MDAzYy9hXHUwMDNlLCB1bmRlciBcdTAwM2NhIGhyZWY9XCJodHRwOi8vY3JlYXRpdmVjb21tb25zLm9yZy9saWNlbnNlcy9ieS8zLjBcIlx1MDAzZUNDIEJZIDMuMFx1MDAzYy9hXHUwMDNlLiBEYXRhIGJ5IFx1MDAyNmNvcHk7IFx1MDAzY2EgaHJlZj1cImh0dHA6Ly9vcGVuc3RyZWV0bWFwLm9yZ1wiXHUwMDNlT3BlblN0cmVldE1hcFx1MDAzYy9hXHUwMDNlLCB1bmRlciBcdTAwM2NhIGhyZWY9XCJodHRwOi8vY3JlYXRpdmVjb21tb25zLm9yZy9saWNlbnNlcy9ieS1zYS8zLjBcIlx1MDAzZUNDIEJZIFNBXHUwMDNjL2FcdTAwM2UuIiwgImRldGVjdFJldGluYSI6IGZhbHNlLCAibWF4TmF0aXZlWm9vbSI6IDE4LCAibWF4Wm9vbSI6IDE4LCAibWluWm9vbSI6IDAsICJub1dyYXAiOiBmYWxzZSwgIm9wYWNpdHkiOiAxLCAic3ViZG9tYWlucyI6ICJhYmMiLCAidG1zIjogZmFsc2V9CiAgICAgICAgICAgICkuYWRkVG8obWFwX2UyMjA5M2MxOWE0ODQ4NjQ4YTUwMWIxNDMyYzY4ZWRjKTsKICAgICAgICAKPC9zY3JpcHQ+\" style=\"position:absolute;width:100%;height:100%;left:0;top:0;border:none !important;\" allowfullscreen webkitallowfullscreen mozallowfullscreen></iframe></div></div>"
      ],
      "text/plain": [
       "<folium.folium.Map at 0x1a25cc3450>"
      ]
     },
     "execution_count": 48,
     "metadata": {},
     "output_type": "execute_result"
    }
   ],
   "source": [
    "fmap = folium.Map(location=[latitude, longitude], zoom_start=10,  tiles = \"Stamen Terrain\")\n",
    "fmap"
   ]
  },
  {
   "cell_type": "markdown",
   "metadata": {},
   "source": [
    "**Add additional column**"
   ]
  },
  {
   "cell_type": "code",
   "execution_count": 49,
   "metadata": {},
   "outputs": [
    {
     "data": {
      "text/html": [
       "<div>\n",
       "<style scoped>\n",
       "    .dataframe tbody tr th:only-of-type {\n",
       "        vertical-align: middle;\n",
       "    }\n",
       "\n",
       "    .dataframe tbody tr th {\n",
       "        vertical-align: top;\n",
       "    }\n",
       "\n",
       "    .dataframe thead th {\n",
       "        text-align: right;\n",
       "    }\n",
       "</style>\n",
       "<table border=\"1\" class=\"dataframe\">\n",
       "  <thead>\n",
       "    <tr style=\"text-align: right;\">\n",
       "      <th></th>\n",
       "      <th>Latitude</th>\n",
       "      <th>Longitude</th>\n",
       "      <th>ListingType</th>\n",
       "      <th>ListingPrice</th>\n",
       "      <th>FloorSize</th>\n",
       "      <th>TimeOnMarket</th>\n",
       "      <th>price</th>\n",
       "      <th>price_z_score</th>\n",
       "      <th>UsefulInfo</th>\n",
       "    </tr>\n",
       "  </thead>\n",
       "  <tbody>\n",
       "    <tr>\n",
       "      <td>0</td>\n",
       "      <td>40.669812</td>\n",
       "      <td>-73.813065</td>\n",
       "      <td>Apartment for rent</td>\n",
       "      <td>$1,900/mo</td>\n",
       "      <td>--</td>\n",
       "      <td>1 day ago</td>\n",
       "      <td>1900.0</td>\n",
       "      <td>-0.447860</td>\n",
       "      <td>Floor Size: -- sqft; Time on Market: 1 day ago</td>\n",
       "    </tr>\n",
       "    <tr>\n",
       "      <td>1</td>\n",
       "      <td>40.670964</td>\n",
       "      <td>-73.806654</td>\n",
       "      <td>House for rent</td>\n",
       "      <td>$3,500/mo</td>\n",
       "      <td>1,408</td>\n",
       "      <td>3 days ago</td>\n",
       "      <td>3500.0</td>\n",
       "      <td>1.191600</td>\n",
       "      <td>Floor Size: 1,408 sqft; Time on Market: 3 days...</td>\n",
       "    </tr>\n",
       "    <tr>\n",
       "      <td>2</td>\n",
       "      <td>40.679659</td>\n",
       "      <td>-73.810825</td>\n",
       "      <td>Apartment for rent</td>\n",
       "      <td>$1,400/mo</td>\n",
       "      <td>--</td>\n",
       "      <td>3 days ago</td>\n",
       "      <td>1400.0</td>\n",
       "      <td>-0.960191</td>\n",
       "      <td>Floor Size: -- sqft; Time on Market: 3 days ago</td>\n",
       "    </tr>\n",
       "    <tr>\n",
       "      <td>3</td>\n",
       "      <td>40.668091</td>\n",
       "      <td>-73.811672</td>\n",
       "      <td>Apartment for rent</td>\n",
       "      <td>$2,300/mo</td>\n",
       "      <td>1,500</td>\n",
       "      <td>6 days ago</td>\n",
       "      <td>2300.0</td>\n",
       "      <td>-0.037995</td>\n",
       "      <td>Floor Size: 1,500 sqft; Time on Market: 6 days...</td>\n",
       "    </tr>\n",
       "    <tr>\n",
       "      <td>4</td>\n",
       "      <td>40.673680</td>\n",
       "      <td>-73.816980</td>\n",
       "      <td>Apartment for rent</td>\n",
       "      <td>$800/mo</td>\n",
       "      <td>--</td>\n",
       "      <td>6 days ago</td>\n",
       "      <td>800.0</td>\n",
       "      <td>-1.574989</td>\n",
       "      <td>Floor Size: -- sqft; Time on Market: 6 days ago</td>\n",
       "    </tr>\n",
       "  </tbody>\n",
       "</table>\n",
       "</div>"
      ],
      "text/plain": [
       "    Latitude  Longitude         ListingType ListingPrice FloorSize  \\\n",
       "0  40.669812 -73.813065  Apartment for rent    $1,900/mo        --   \n",
       "1  40.670964 -73.806654      House for rent    $3,500/mo     1,408   \n",
       "2  40.679659 -73.810825  Apartment for rent    $1,400/mo        --   \n",
       "3  40.668091 -73.811672  Apartment for rent    $2,300/mo     1,500   \n",
       "4  40.673680 -73.816980  Apartment for rent      $800/mo        --   \n",
       "\n",
       "  TimeOnMarket   price  price_z_score  \\\n",
       "0    1 day ago  1900.0      -0.447860   \n",
       "1   3 days ago  3500.0       1.191600   \n",
       "2   3 days ago  1400.0      -0.960191   \n",
       "3   6 days ago  2300.0      -0.037995   \n",
       "4   6 days ago   800.0      -1.574989   \n",
       "\n",
       "                                          UsefulInfo  \n",
       "0     Floor Size: -- sqft; Time on Market: 1 day ago  \n",
       "1  Floor Size: 1,408 sqft; Time on Market: 3 days...  \n",
       "2    Floor Size: -- sqft; Time on Market: 3 days ago  \n",
       "3  Floor Size: 1,500 sqft; Time on Market: 6 days...  \n",
       "4    Floor Size: -- sqft; Time on Market: 6 days ago  "
      ]
     },
     "execution_count": 49,
     "metadata": {},
     "output_type": "execute_result"
    }
   ],
   "source": [
    "adf = output_df\n",
    "adf['price'] = adf['ListingPrice'].apply(lambda x: x.replace('$','').replace(',','').replace('/mo', '')).astype(float)\n",
    "adf['price_z_score'] = (adf['price'] - adf['price'].mean())/adf['price'].std()\n",
    "adf['UsefulInfo'] = adf.apply( lambda row: \"Floor Size: {} sqft; Time on Market: {}\".format(row['FloorSize'], row['TimeOnMarket']), axis=1)\n",
    "adf.head()"
   ]
  },
  {
   "cell_type": "code",
   "execution_count": 50,
   "metadata": {},
   "outputs": [
    {
     "data": {
      "text/plain": [
       "array(['Apartment for rent', 'House for rent', 'Condo for rent'],\n",
       "      dtype=object)"
      ]
     },
     "execution_count": 50,
     "metadata": {},
     "output_type": "execute_result"
    }
   ],
   "source": [
    "adf['ListingType'].unique()"
   ]
  },
  {
   "cell_type": "code",
   "execution_count": 51,
   "metadata": {},
   "outputs": [],
   "source": [
    "def set_color(listing_type):\n",
    "    _map = {'Apartment for rent': 'blue', 'House for rent': 'red', 'Condo for rent': 'orange', 'Townhouse for rent': 'brown',\n",
    "           'Co-op for rent': 'green'}\n",
    "    return(_map[listing_type])\n",
    "\n",
    "adf['folium_color'] = adf['ListingType'].apply(set_color)"
   ]
  },
  {
   "cell_type": "code",
   "execution_count": 52,
   "metadata": {},
   "outputs": [
    {
     "data": {
      "text/html": [
       "<div style=\"width:100%;\"><div style=\"position:relative;width:100%;height:0;padding-bottom:60%;\"><iframe src=\"data:text/html;charset=utf-8;base64,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\" style=\"position:absolute;width:100%;height:100%;left:0;top:0;border:none !important;\" allowfullscreen webkitallowfullscreen mozallowfullscreen></iframe></div></div>"
      ],
      "text/plain": [
       "<folium.folium.Map at 0x1a261d1e50>"
      ]
     },
     "execution_count": 52,
     "metadata": {},
     "output_type": "execute_result"
    }
   ],
   "source": [
    "lat_col = 'Latitude'\n",
    "lon_col = 'Longitude'\n",
    "popup_col = 'UsefulInfo'\n",
    "tooltips_col = 'ListingType'\n",
    "radius_scale = 50\n",
    "\n",
    "fmap = folium.Map(location=[latitude, longitude], zoom_start=15,  tiles = \"cartodb positron\")\n",
    "for i in range(adf.shape[0]):\n",
    "    folium.Circle(location=[adf.iloc[i][lat_col], adf.iloc[i][lon_col]],\n",
    "                  popup=adf.iloc[i][popup_col],\n",
    "                  tooltiptip=adf.iloc[i][tooltips_col],\n",
    "                  radius=int(adf.iloc[i]['price_z_score'] * radius_scale),\n",
    "                  color=adf.iloc[i]['folium_color'],\n",
    "                  fill = True,\n",
    "                  fill_opacity=0.2, \n",
    "                  line_opacity=0.2\n",
    "                  ).add_to(fmap)\n",
    "    \n",
    "fmap"
   ]
  },
  {
   "cell_type": "code",
   "execution_count": null,
   "metadata": {},
   "outputs": [],
   "source": []
  },
  {
   "cell_type": "code",
   "execution_count": null,
   "metadata": {},
   "outputs": [],
   "source": []
  },
  {
   "cell_type": "code",
   "execution_count": null,
   "metadata": {},
   "outputs": [],
   "source": []
  },
  {
   "cell_type": "code",
   "execution_count": null,
   "metadata": {},
   "outputs": [],
   "source": []
  },
  {
   "cell_type": "code",
   "execution_count": null,
   "metadata": {},
   "outputs": [],
   "source": []
  },
  {
   "cell_type": "code",
   "execution_count": null,
   "metadata": {},
   "outputs": [],
   "source": []
  },
  {
   "cell_type": "code",
   "execution_count": null,
   "metadata": {},
   "outputs": [],
   "source": []
  }
 ],
 "metadata": {
  "kernelspec": {
   "display_name": "Python 3",
   "language": "python",
   "name": "python3"
  },
  "language_info": {
   "codemirror_mode": {
    "name": "ipython",
    "version": 3
   },
   "file_extension": ".py",
   "mimetype": "text/x-python",
   "name": "python",
   "nbconvert_exporter": "python",
   "pygments_lexer": "ipython3",
   "version": "3.7.4"
  }
 },
 "nbformat": 4,
 "nbformat_minor": 2
}
